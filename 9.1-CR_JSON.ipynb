{
 "cells": [
  {
   "cell_type": "markdown",
   "id": "4d51affa",
   "metadata": {},
   "source": [
    "# JSON files\n",
    "\n",
    "by [Luciano Gabbanelli](https://www.linkedin.com/in/luciano-gabbanelli-ph-d-75302218)"
   ]
  },
  {
   "cell_type": "markdown",
   "id": "6fee7deb",
   "metadata": {},
   "source": [
    "<img width=80 src=\"https://media.giphy.com/media/KAq5w47R9rmTuvWOWa/giphy.gif\">\n",
    "\n",
    "<img width=150 src=\"Images/Assembler.png\">\n",
    "\n",
    "***"
   ]
  },
  {
   "cell_type": "markdown",
   "id": "0603666d",
   "metadata": {},
   "source": [
    "In computer science, a data structure is a particular way of organising and storing data in a computer such that it can be accessed and modified efficiently. More precisely, a data structure is a collection of data values, the relationships among them, and the functions or operations that can be applied to the data."
   ]
  },
  {
   "cell_type": "markdown",
   "id": "637231f0",
   "metadata": {},
   "source": [
    "**Three different data structures:**\n",
    "\n",
    "- Structured Data\n",
    "\n",
    "- Unstructured Data\n",
    "\n",
    "- Semi-structured Data\n",
    "\n",
    "A last category of data type is metadata. From a technical point of view, this is not a separate data structure, but it is a very important element, particularly for Big Data analysis and big data solutions.\n",
    "\n",
    "Check the following image. Do you understand what type of data each it represents?\n",
    "\n",
    "<img width=550 src=\"Images/data-structures.png\">\n",
    "\n",
    "Can you do a little research about the difference between each of these types of data?"
   ]
  },
  {
   "cell_type": "markdown",
   "id": "bf3c06fa",
   "metadata": {},
   "source": [
    "## Let's dive into JSON\n",
    "\n",
    "<table>\n",
    "<tr>\n",
    "<td>\n",
    "\n",
    "<img width=350 src=\"Images/Jason.jpg\">\n",
    "\n",
    "</td>\n",
    "<td>\n",
    "    \n",
    "- JSON is text, written with JavaScript Object Notation.\n",
    "    <br>\n",
    "    \n",
    "- JSON is based on JavaScript, but is language independent.\n",
    "    <br>\n",
    "    \n",
    "- JSON is a syntax for storing and exchanging data.\n",
    "    <br>\n",
    "    \n",
    "- Files have a **.json** extension.\n",
    "    <br>\n",
    "    \n",
    "- Python has a built-in package called `json`, which can be used to work with JSON data.\n",
    "    <br>\n",
    "    \n",
    "- You can parse JSON\n",
    "    <br>\n",
    "    \n",
    "- Or convert from Python to JSON\n",
    "    \n",
    "</td>\n",
    "</tr>\n",
    "</table>"
   ]
  },
  {
   "cell_type": "markdown",
   "id": "a1e1a2f2",
   "metadata": {},
   "source": [
    "The data in JSON format can be used in practically all programming languages (such as Java,\n",
    "C#, C, C++, PHP, JavaScript, Python, etc.). JSON means that a script (executable) file which is made of text in a programming language, is used to store and transfer the data. "
   ]
  },
  {
   "cell_type": "markdown",
   "id": "a47a7eeb",
   "metadata": {},
   "source": [
    "Python supports JSON through a built-in package called json. Let us start importing this package to handle JSON documents in Python scripts:"
   ]
  },
  {
   "cell_type": "code",
   "execution_count": 2,
   "id": "aa4b5d6a",
   "metadata": {},
   "outputs": [
    {
     "name": "stdout",
     "output_type": "stream",
     "text": [
      "{\"name\":\"John\", \"age\":30, \"city\":\"New York\"}\n",
      "<class 'str'>\n"
     ]
    }
   ],
   "source": [
    "import json\n",
    "\n",
    "# some JSON:\n",
    "mystring =  '{\"name\":\"John\", \"age\":30, \"city\":\"New York\"}'\n",
    "\n",
    "# as you can see, you have a JSON-formatted string\n",
    "print(mystring)\n",
    "print(type(mystring))"
   ]
  },
  {
   "cell_type": "markdown",
   "id": "de33075f",
   "metadata": {},
   "source": [
    "As can be seen, JSON represents objects in a textual way using *key : value* pairs/mapping, enclosed between curly brackets, { and },  and separated by commas.\n",
    "\n",
    "Keys are usually text in JSON done through quoted-string, “ and ”.\n",
    "\n",
    "Values can be:\n",
    "\n",
    "    - basic types like string, number, boolean, null;\n",
    "    \n",
    "    - arrays, between square brackets, [ and ];\n",
    "    \n",
    "    - other JSON objects, between braces, { and }."
   ]
  },
  {
   "cell_type": "markdown",
   "id": "ba44a014",
   "metadata": {},
   "source": [
    "###  Deserialization of JSON ()\n",
    "\n",
    "You can also find it as: decode or read into Python, parse or convert from JSON to Python objects, and other creative ways.\n",
    "\n",
    "If you have a JSON string, you can parse it by using the json.loads() method:"
   ]
  },
  {
   "cell_type": "code",
   "execution_count": 3,
   "id": "e7b55a3d",
   "metadata": {},
   "outputs": [
    {
     "name": "stdout",
     "output_type": "stream",
     "text": [
      "{'name': 'John', 'age': 30, 'city': 'New York'}\n",
      "<class 'dict'>\n",
      "30\n",
      "<class 'int'>\n"
     ]
    }
   ],
   "source": [
    "# parse mystring:\n",
    "mydict = json.loads(mystring)\n",
    "\n",
    "# if you print the output mydict, \n",
    "# there doesn't seem to be much difference with mystring\n",
    "print(mydict)\n",
    "\n",
    "# however there is such! \n",
    "# the result is a Python dictionary:\n",
    "print(type(mydict))\n",
    "\n",
    "# we can access its elements:\n",
    "print(mydict[\"age\"])\n",
    "\n",
    "# check out this!\n",
    "print(type(mydict[\"age\"]))"
   ]
  },
  {
   "cell_type": "markdown",
   "id": "44257d3c",
   "metadata": {},
   "source": [
    "**Important:**\n",
    "\n",
    "1) When we talk about JSON objects or documents in Python we mean text strings that contain a JSON document.\n",
    "\n",
    "2) The Python data structure that best represents a JSON object is the dictionary. Therefore, any JSON object can be represented as a dictionary, and it will be the default data structure that the json library will use in JSON-Python conversions."
   ]
  },
  {
   "cell_type": "markdown",
   "id": "b5a41a49",
   "metadata": {},
   "source": [
    "### Convert from Python to JSON\n",
    "\n",
    "If you have a Python object, you can convert it into a JSON string by using the json.dumps() method.\n",
    "You can also find it as: code or write a Python object into a JSON string.\n",
    "\n",
    "**Note:** once you importa a library, yo do not have to import it again."
   ]
  },
  {
   "cell_type": "code",
   "execution_count": 4,
   "id": "5f89ca37",
   "metadata": {},
   "outputs": [],
   "source": [
    "# a Python object (dict):\n",
    "newdict = {\n",
    "    \"name\": \"Evaristo Paramos\",\n",
    "    \"age\": 63,\n",
    "    \"city\": \"Guillarei, Pontevedra\",\n",
    "    \"Occupation\": [\"Compositor\", \"Cantante\", \"Escritor\"]\n",
    "}"
   ]
  },
  {
   "cell_type": "code",
   "execution_count": 5,
   "id": "6f50079d",
   "metadata": {},
   "outputs": [
    {
     "name": "stdout",
     "output_type": "stream",
     "text": [
      "newdict is of type <class 'dict'>\n"
     ]
    },
    {
     "data": {
      "text/plain": [
       "63"
      ]
     },
     "execution_count": 5,
     "metadata": {},
     "output_type": "execute_result"
    }
   ],
   "source": [
    "# since we have a dictionary, its type is dict\n",
    "print('newdict is of type', type(newdict))\n",
    "\n",
    "# and being a dictionary, we can access the values, calling them by their keys\n",
    "newdict[\"age\"]"
   ]
  },
  {
   "cell_type": "code",
   "execution_count": 6,
   "id": "f0ee5fb8",
   "metadata": {},
   "outputs": [
    {
     "name": "stdout",
     "output_type": "stream",
     "text": [
      "{\"name\": \"Evaristo Paramos\", \"age\": 63, \"city\": \"Guillarei, Pontevedra\", \"Occupation\": [\"Compositor\", \"Cantante\", \"Escritor\"]}\n",
      "myJSONstring is of type <class 'str'>\n"
     ]
    }
   ],
   "source": [
    "# convert into JSON:\n",
    "myJSONstring = json.dumps(newdict)\n",
    "\n",
    "# the result is a JSON string:\n",
    "print(myJSONstring)\n",
    "print('myJSONstring is of type', type(myJSONstring))"
   ]
  },
  {
   "cell_type": "markdown",
   "id": "e7c4284d",
   "metadata": {},
   "source": [
    "To be precise, you can convert Python objects of the following types, into JSON strings. Python objects are converted into the JSON equivalent:\n",
    "\n",
    "|  <div style=\"width:90px\">Python</div>  | JSON      |\n",
    "|:---------|:----------|\n",
    "|  dict    | Object    |\n",
    "|  list    | Array     |\n",
    "|  tuple   | Array     |\n",
    "|  string  | String    |\n",
    "|  int     | Number    |\n",
    "|  float   | Number    |\n",
    "|  True    | true      |\n",
    "|  False   | false     |\n",
    "|  None    | null      |\n",
    "\n",
    "**To summ up:** The encoder understands several native Python types by default such as: **string, unicode, int, float, list, tuple, dict**.\n",
    "\n",
    "Check it out with your own eyes:"
   ]
  },
  {
   "cell_type": "code",
   "execution_count": 7,
   "id": "e0574093",
   "metadata": {},
   "outputs": [
    {
     "name": "stdout",
     "output_type": "stream",
     "text": [
      "{\"name\": \"John\", \"age\": 30}\n",
      "[\"apple\", \"bananas\"]\n",
      "[\"apple\", \"bananas\", 32.5]\n",
      "\"hello\"\n",
      "42\n",
      "31.76\n",
      "true\n",
      "false\n",
      "null\n"
     ]
    }
   ],
   "source": [
    "print(json.dumps({\"name\": \"John\", \"age\": 30}))\n",
    "print(json.dumps([\"apple\", \"bananas\"]))\n",
    "print(json.dumps((\"apple\", \"bananas\", 32.5)))\n",
    "print(json.dumps(\"hello\"))\n",
    "print(json.dumps(42))\n",
    "print(json.dumps(31.76))\n",
    "print(json.dumps(True))\n",
    "print(json.dumps(False))\n",
    "print(json.dumps(None))"
   ]
  },
  {
   "cell_type": "markdown",
   "id": "6e8577c3",
   "metadata": {},
   "source": [
    "**Task:** Convert a Python object containing all the legal data types:"
   ]
  },
  {
   "cell_type": "code",
   "execution_count": 8,
   "id": "d7ff17d7",
   "metadata": {},
   "outputs": [
    {
     "name": "stdout",
     "output_type": "stream",
     "text": [
      "{}\n"
     ]
    }
   ],
   "source": [
    "# let us define a python object\n",
    "python_object = {\n",
    "    # type your code here:\n",
    "    # enter as much data as you want\n",
    "    # cover all data types\n",
    "}\n",
    "\n",
    "# and transform it to JSON\n",
    "JSON_object = json.dumps(python_object)\n",
    "\n",
    "# print the object transformed\n",
    "print(JSON_object)"
   ]
  },
  {
   "cell_type": "markdown",
   "id": "8458df55",
   "metadata": {},
   "source": [
    "You can find a possible solution [here](https://www.w3schools.com/python/python_json.asp)."
   ]
  },
  {
   "cell_type": "markdown",
   "id": "512bf539",
   "metadata": {},
   "source": [
    "### You can give format to your JSON string\n",
    "\n",
    "The above example prints a nearly unreadable JSON string; there are no indents, no line breaks.\n",
    "\n",
    "The json.dumps() method has parameters to make it easier to read the result.\n",
    "\n",
    "**Task:** Tune a parameter to indent the result. Run the following cell."
   ]
  },
  {
   "cell_type": "code",
   "execution_count": 9,
   "id": "1e19f33c",
   "metadata": {},
   "outputs": [
    {
     "name": "stdout",
     "output_type": "stream",
     "text": [
      "JSON data:\n",
      "\n",
      " {\n",
      " \"name\": \"Evaristo Paramos\",\n",
      " \"age\": 63,\n",
      " \"city\": \"Guillarei, Pontevedra\",\n",
      " \"Occupation\": [\n",
      "  \"Compositor\",\n",
      "  \"Cantante\",\n",
      "  \"Escritor\"\n",
      " ]\n",
      "} \n",
      "\n",
      "-------------------------------------\n",
      "\n",
      "{\n",
      "    \"name\" = \"Evaristo Paramos\". \n",
      "    \"age\" = 63. \n",
      "    \"city\" = \"Guillarei, Pontevedra\". \n",
      "    \"Occupation\" = [\n",
      "        \"Compositor\". \n",
      "        \"Cantante\". \n",
      "        \"Escritor\"\n",
      "    ]\n",
      "} \n",
      "\n",
      "-------------------------------------\n",
      "\n",
      "{\n",
      "    \"Occupation\": [\n",
      "        \"Compositor\",\n",
      "        \"Cantante\",\n",
      "        \"Escritor\"\n",
      "    ],\n",
      "    \"age\": 63,\n",
      "    \"city\": \"Guillarei, Pontevedra\",\n",
      "    \"name\": \"Evaristo Paramos\"\n",
      "}\n"
     ]
    }
   ],
   "source": [
    "print ('JSON data:\\n\\n', json.dumps(newdict, indent=1), '\\n\\n-------------------------------------\\n')\n",
    "print(json.dumps(newdict, indent=4, separators=(\". \", \" = \")), '\\n\\n-------------------------------------\\n')\n",
    "print( json.dumps(newdict, indent=4, sort_keys=True))"
   ]
  },
  {
   "cell_type": "markdown",
   "id": "cda22874",
   "metadata": {},
   "source": [
    "## Tricky example:\n",
    "\n",
    "Discuss the following Figure with your Squad:"
   ]
  },
  {
   "cell_type": "markdown",
   "id": "71f59009",
   "metadata": {},
   "source": [
    "<img width=500 src=\"Images/Extructura json.png\">"
   ]
  },
  {
   "cell_type": "code",
   "execution_count": 10,
   "id": "efaa1d9c",
   "metadata": {},
   "outputs": [],
   "source": [
    "# the code for this JSON string is:  \n",
    "capo = '''[{\n",
    "    \"dorsal\": 30,\n",
    "    \"name\": \"Lionel Andrés Messi Cuccittini\",\n",
    "    \"demarcation\": [\"Forward\", \"Midfielder\"],\n",
    "    \"team\": \"Paris Saint-Germain F.C.\"    \n",
    "}]'''"
   ]
  },
  {
   "cell_type": "markdown",
   "id": "e168f4a7",
   "metadata": {},
   "source": [
    "**Task:** Discuss its type and print it. Then, parse it and print its type. Also prints its first element and its type. "
   ]
  },
  {
   "cell_type": "code",
   "execution_count": 11,
   "id": "395b562e",
   "metadata": {},
   "outputs": [
    {
     "name": "stdout",
     "output_type": "stream",
     "text": [
      "[{\n",
      "    \"dorsal\": 30,\n",
      "    \"name\": \"Lionel Andrés Messi Cuccittini\",\n",
      "    \"demarcation\": [\"Forward\", \"Midfielder\"],\n",
      "    \"team\": \"Paris Saint-Germain F.C.\"    \n",
      "}]\n",
      "\n",
      "<class 'str'>\n"
     ]
    }
   ],
   "source": [
    "# type your code here:\n",
    "print(capo)\n",
    "print()\n",
    "print(type(capo))"
   ]
  },
  {
   "cell_type": "code",
   "execution_count": 12,
   "id": "9a62c8e6",
   "metadata": {},
   "outputs": [],
   "source": [
    "capo_but_in_Python = json.loads(capo)"
   ]
  },
  {
   "cell_type": "code",
   "execution_count": 13,
   "id": "33e8e7a6",
   "metadata": {},
   "outputs": [
    {
     "name": "stdout",
     "output_type": "stream",
     "text": [
      "{'dorsal': 30, 'name': 'Lionel Andrés Messi Cuccittini', 'demarcation': ['Forward', 'Midfielder'], 'team': 'Paris Saint-Germain F.C.'}\n",
      "\n",
      "<class 'list'> <class 'dict'>\n"
     ]
    }
   ],
   "source": [
    "print(capo_but_in_Python[0])\n",
    "print()\n",
    "print(type(capo_but_in_Python), type(capo_but_in_Python[0]))"
   ]
  },
  {
   "cell_type": "markdown",
   "id": "86f3869d",
   "metadata": {},
   "source": [
    "**Very optional task!**\n",
    "\n",
    "**Check these two outputs:** They look the same but they're not. Try to understand the difference in the next few years :)"
   ]
  },
  {
   "cell_type": "code",
   "execution_count": 14,
   "id": "53bd6e76",
   "metadata": {
    "scrolled": true
   },
   "outputs": [
    {
     "name": "stdout",
     "output_type": "stream",
     "text": [
      "DATA: [{'dorsal': 30, 'name': 'Lionel Andrés Messi Cuccittini', 'demarcation': ['Forward', 'Midfielder'], 'team': 'Paris Saint-Germain F.C.'}]\n",
      "\n",
      "DATA: [{'dorsal': 30, 'name': 'Lionel Andrés Messi Cuccittini', 'demarcation': ['Forward', 'Midfielder'], 'team': 'Paris Saint-Germain F.C.'}]\n",
      "\n",
      "DATA: '[{\\n    \"dorsal\": 30,\\n    \"name\": \"Lionel Andrés Messi Cuccittini\",\\n    \"demarcation\": [\"Forward\", \"Midfielder\"],\\n    \"team\": \"Paris Saint-Germain F.C.\"    \\n}]'\n",
      "\n",
      "DATA: [{\n",
      "    \"dorsal\": 30,\n",
      "    \"name\": \"Lionel Andrés Messi Cuccittini\",\n",
      "    \"demarcation\": [\"Forward\", \"Midfielder\"],\n",
      "    \"team\": \"Paris Saint-Germain F.C.\"    \n",
      "}]\n"
     ]
    }
   ],
   "source": [
    "print ('DATA:', repr(capo_but_in_Python))\n",
    "print()\n",
    "print ('DATA:', str(capo_but_in_Python))\n",
    "print()\n",
    "print ('DATA:', repr(capo))\n",
    "print()\n",
    "print ('DATA:', str(capo))"
   ]
  },
  {
   "cell_type": "markdown",
   "id": "362643eb",
   "metadata": {},
   "source": [
    "## JSON from files: `dumps()` V.S. `dump()`\n",
    "\n",
    "JSON files are simple text files with a .json extension. \n",
    "\n",
    "A .json file can be created with any plain text editor. Care must be taken to always use plain text!  \n",
    "\n",
    "**NOTE:** advanced word processors like Microsoft Word do not work with plain text and therefore will not be useful for working with .json files.\n",
    "\n",
    "In what follows, I leave the code from the videos. There you can find the difference between the plural and singular."
   ]
  },
  {
   "cell_type": "code",
   "execution_count": 15,
   "id": "f6a7c058",
   "metadata": {},
   "outputs": [
    {
     "name": "stdout",
     "output_type": "stream",
     "text": [
      "<Response [200]>\n"
     ]
    }
   ],
   "source": [
    "# to interact with an appi getting a JSON object\n",
    "import requests\n",
    "\n",
    "responseObject = requests.get('http://api.open-notify.org/astros.json')\n",
    "print(responseObject)\n",
    "jsonData = responseObject.json()"
   ]
  },
  {
   "cell_type": "markdown",
   "id": "61a25125",
   "metadata": {},
   "source": [
    "Explore the page of the APPI Server: [http://api.open-notify.org/](http://api.open-notify.org/). Run the previous cell to pull the data to Python and obtain an object called `jsonData`. Read about the `requests` library and discuss with your Squad.\n",
    "\n",
    "In forthcoming modules we will focus properly in APIs; this is just a snack! 🥨\n",
    "\n",
    "Run the following cell to see the data:"
   ]
  },
  {
   "cell_type": "code",
   "execution_count": 16,
   "id": "2a512998",
   "metadata": {},
   "outputs": [
    {
     "data": {
      "text/plain": [
       "{'message': 'success',\n",
       " 'people': [{'name': 'Sergey Prokopyev', 'craft': 'ISS'},\n",
       "  {'name': 'Dmitry Petelin', 'craft': 'ISS'},\n",
       "  {'name': 'Frank Rubio', 'craft': 'ISS'},\n",
       "  {'name': 'Nicole Mann', 'craft': 'ISS'},\n",
       "  {'name': 'Josh Cassada', 'craft': 'ISS'},\n",
       "  {'name': 'Koichi Wakata', 'craft': 'ISS'},\n",
       "  {'name': 'Anna Kikina', 'craft': 'ISS'},\n",
       "  {'name': 'Fei Junlong', 'craft': 'Shenzhou 15'},\n",
       "  {'name': 'Deng Qingming', 'craft': 'Shenzhou 15'},\n",
       "  {'name': 'Zhang Lu', 'craft': 'Shenzhou 15'}],\n",
       " 'number': 10}"
      ]
     },
     "execution_count": 16,
     "metadata": {},
     "output_type": "execute_result"
    }
   ],
   "source": [
    "jsonData"
   ]
  },
  {
   "cell_type": "markdown",
   "id": "68b421c5",
   "metadata": {},
   "source": [
    "In this new object you have all the astronauts who are in space right now.\n",
    "\n",
    "If there is no match with the video, it is because an astronaut jumps or descends from up there.\n",
    "\n",
    "**Question:** What type of object is `jsonData`? Makes sense?"
   ]
  },
  {
   "cell_type": "code",
   "execution_count": 17,
   "id": "7cb35280",
   "metadata": {},
   "outputs": [
    {
     "data": {
      "text/plain": [
       "dict"
      ]
     },
     "execution_count": 17,
     "metadata": {},
     "output_type": "execute_result"
    }
   ],
   "source": [
    "type(jsonData)"
   ]
  },
  {
   "cell_type": "markdown",
   "id": "8104ddce",
   "metadata": {},
   "source": [
    "Let us now use the json dumps to write the json data to a file."
   ]
  },
  {
   "cell_type": "code",
   "execution_count": 18,
   "id": "a37cabfb",
   "metadata": {},
   "outputs": [
    {
     "name": "stdout",
     "output_type": "stream",
     "text": [
      "Now writting ISS Astros data to a file...\n",
      "\n"
     ]
    }
   ],
   "source": [
    "jsonStringData = json.dumps(jsonData)\n",
    "\n",
    "with open('FilesRW/ISSAstrosDumps.json','w') as myFile:\n",
    "    print('Now writting ISS Astros data to a file...')\n",
    "    print()\n",
    "    myFile.write(jsonStringData)"
   ]
  },
  {
   "cell_type": "markdown",
   "id": "724d5495",
   "metadata": {},
   "source": [
    "Let us check that the file was correctly created:"
   ]
  },
  {
   "cell_type": "code",
   "execution_count": 19,
   "id": "49f1b93c",
   "metadata": {},
   "outputs": [
    {
     "name": "stdout",
     "output_type": "stream",
     "text": [
      "The file is in my computer!\n"
     ]
    }
   ],
   "source": [
    "import os\n",
    "if os.path.exists(\"FilesRW/ISSAstrosDumps.json\"):\n",
    "    print(\"The file is in my computer!\")\n",
    "else:\n",
    "    print(\"The file does not exist =(\")"
   ]
  },
  {
   "cell_type": "markdown",
   "id": "8db0c1dd",
   "metadata": {},
   "source": [
    "Now let us print the content of our file. You can open direcly the file also ;)"
   ]
  },
  {
   "cell_type": "code",
   "execution_count": 20,
   "id": "c9e41b4b",
   "metadata": {},
   "outputs": [
    {
     "name": "stdout",
     "output_type": "stream",
     "text": [
      "<_io.TextIOWrapper name='FilesRW/ISSAstrosDumps.json' mode='r' encoding='cp1252'>\n"
     ]
    }
   ],
   "source": [
    "with open('FilesRW/ISSAstrosDumps.json','r') as myFile:\n",
    "    print(myFile)"
   ]
  },
  {
   "cell_type": "markdown",
   "id": "1fe8afd2",
   "metadata": {},
   "source": [
    "**WTF!!! What is this?!**\n",
    "\n",
    "Let us keep moving and continue with the `dump()` method. May be in the future you will understand..."
   ]
  },
  {
   "cell_type": "code",
   "execution_count": 21,
   "id": "84d81cbe",
   "metadata": {},
   "outputs": [],
   "source": [
    "jsonOutputFile = open('FilesRW/ISSAstrosDump.json','w')\n",
    "json.dump(jsonData, jsonOutputFile, indent=4)\n",
    "jsonOutputFile.close()"
   ]
  },
  {
   "cell_type": "code",
   "execution_count": 22,
   "id": "c9ce127d",
   "metadata": {},
   "outputs": [
    {
     "name": "stdout",
     "output_type": "stream",
     "text": [
      "<_io.TextIOWrapper name='FilesRW/ISSAstrosDump.json' mode='r' encoding='cp1252'>\n"
     ]
    }
   ],
   "source": [
    "with open('FilesRW/ISSAstrosDump.json','r') as myFile:\n",
    "    print(myFile)"
   ]
  },
  {
   "cell_type": "markdown",
   "id": "7da465f7",
   "metadata": {},
   "source": [
    "🥵🥵🥵🥵🥵🥵🥵🥵🥵🥵🥵🥵🥵🥵🥵🥵🥵🥵🥵🥵🥵\n",
    "\n",
    "Let us try to understand what is happening!"
   ]
  },
  {
   "cell_type": "markdown",
   "id": "8adf49d4",
   "metadata": {},
   "source": [
    "## JSON from files: `loads()` V.S. `load()`\n",
    "\n",
    "The following cells are for the second video.\n",
    "\n",
    "Here is the webpage [http://api.open-notify.org/iss-now.json](http://api.open-notify.org/iss-now.json) where you can find the data."
   ]
  },
  {
   "cell_type": "code",
   "execution_count": 23,
   "id": "3eecfca6",
   "metadata": {},
   "outputs": [
    {
     "name": "stdout",
     "output_type": "stream",
     "text": [
      "{\"iss_position\": {\"latitude\": \"45.9436\", \"longitude\": \"-15.4598\"}, \n",
      "\"timestamp\": 1675857125, \"message\": \"success\"}\n",
      "\n",
      "The object is of type <class 'str'>\n"
     ]
    }
   ],
   "source": [
    "pythonStringData = '''{\"iss_position\": {\"latitude\": \"45.9436\", \"longitude\": \"-15.4598\"}, \n",
    "\"timestamp\": 1675857125, \"message\": \"success\"}'''\n",
    "\n",
    "print(pythonStringData)\n",
    "print()\n",
    "print('The object is of type', type(pythonStringData))"
   ]
  },
  {
   "cell_type": "markdown",
   "id": "0693d2c6",
   "metadata": {},
   "source": [
    "Your data probably doesn't match Travis Bonfigli's or mine. That's because, unsurprisingly, the International Space Station (ISS) is moving 🛰️"
   ]
  },
  {
   "cell_type": "code",
   "execution_count": 24,
   "id": "7f4d3be4",
   "metadata": {
    "scrolled": true
   },
   "outputs": [
    {
     "name": "stdout",
     "output_type": "stream",
     "text": [
      "<class 'dict'>\n",
      "\n",
      "1675857125\n",
      "\n",
      "45.9436\n"
     ]
    }
   ],
   "source": [
    "ISSJsonData = json.loads(pythonStringData)\n",
    "\n",
    "print(type(ISSJsonData))\n",
    "print()\n",
    "print(ISSJsonData[\"timestamp\"])\n",
    "print()\n",
    "print(ISSJsonData[\"iss_position\"][\"latitude\"])"
   ]
  },
  {
   "cell_type": "markdown",
   "id": "e1921413",
   "metadata": {},
   "source": [
    "Wait a minute!! We have not worked with a file from our computer.\n",
    "\n",
    "Yes, I know. But in the Edpuzzle you already leared how to read a file from your computer by mixing the `open()`, `read()` / `readline()` / `readlines()` and `loads()` methods. Do you remember?"
   ]
  },
  {
   "cell_type": "code",
   "execution_count": 25,
   "id": "eb21c907",
   "metadata": {},
   "outputs": [
    {
     "name": "stdout",
     "output_type": "stream",
     "text": [
      "<class 'dict'>\n",
      "\n",
      "1675857125\n",
      "\n",
      "45.9436\n"
     ]
    }
   ],
   "source": [
    "# open and parse the data\n",
    "with open('FilesRW/ISS-now.json') as placeholder:\n",
    "    pythonDictionary = json.load(placeholder)\n",
    "\n",
    "print(type(pythonDictionary))\n",
    "print()\n",
    "print(pythonDictionary[\"timestamp\"])\n",
    "print()\n",
    "print(pythonDictionary[\"iss_position\"][\"latitude\"])"
   ]
  },
  {
   "cell_type": "markdown",
   "id": "ce8be60f",
   "metadata": {},
   "source": [
    "🗿   ***Do you know what a placeholder is?***   🗿"
   ]
  },
  {
   "cell_type": "markdown",
   "id": "5bf30c0b",
   "metadata": {},
   "source": [
    "**Final task:** Now you are ready to solve the problems we were having with opening the files ISSAstrosDump.json and ISSAstrosDumps.json.\n",
    "\n",
    "Discuss with your Squad what is the meaning of \n",
    "\n",
    "<_io.TextIOWrapper name='Files/ISSAstrosDump.json' mode='r' encoding='cp1252'>\n",
    "\n",
    "and how to access both files.\n",
    "\n",
    "You can use dump() for the former and dumps() for the latter; or vice versa."
   ]
  },
  {
   "cell_type": "code",
   "execution_count": null,
   "id": "84f7cb91",
   "metadata": {},
   "outputs": [],
   "source": []
  }
 ],
 "metadata": {
  "kernelspec": {
   "display_name": "Python 3 (ipykernel)",
   "language": "python",
   "name": "python3"
  },
  "language_info": {
   "codemirror_mode": {
    "name": "ipython",
    "version": 3
   },
   "file_extension": ".py",
   "mimetype": "text/x-python",
   "name": "python",
   "nbconvert_exporter": "python",
   "pygments_lexer": "ipython3",
   "version": "3.9.12"
  },
  "toc": {
   "base_numbering": 1,
   "nav_menu": {},
   "number_sections": true,
   "sideBar": true,
   "skip_h1_title": true,
   "title_cell": "Table of Contents",
   "title_sidebar": "Contents",
   "toc_cell": false,
   "toc_position": {},
   "toc_section_display": true,
   "toc_window_display": false
  }
 },
 "nbformat": 4,
 "nbformat_minor": 5
}
