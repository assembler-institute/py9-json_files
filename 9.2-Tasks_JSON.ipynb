{
 "cells": [
  {
   "cell_type": "markdown",
   "id": "551264a1",
   "metadata": {},
   "source": [
    "# JSON Task Sheet"
   ]
  },
  {
   "cell_type": "markdown",
   "id": "376a3c41",
   "metadata": {},
   "source": [
    "<img width=80 src=\"https://media.giphy.com/media/KAq5w47R9rmTuvWOWa/giphy.gif\">\n",
    "\n",
    "<img width=150 src=\"Images/Assembler.png\">"
   ]
  },
  {
   "cell_type": "markdown",
   "id": "120d9028",
   "metadata": {},
   "source": [
    "# Important:\n",
    "\n",
    "- Comment your code explaining what each part does when you consider it.\n",
    "- We are asking about two types of problems. The first type are solved with code cells, and the second with markdown type cells (where the solution must be thought without executing code cells). This will be indicated in each problem.\n",
    "- Please always respect the instructions. If you are asked to use higher order functions, use at least as many as requested.\n",
    "- All files created or used must be contained in a folder called \"Files\" located in the directory where you place this Jupyter notebook."
   ]
  },
  {
   "cell_type": "markdown",
   "id": "9c7d2b41",
   "metadata": {},
   "source": [
    "# Recommendations:\n",
    "\n",
    "- There are as many ways to solve a problem as there are people in the world. Find yours!\n",
    "- Create as many variables as you want. They cost nothing and are worth it for the sake of clarity.\n",
    "- You can add cells if needed. \n",
    "- Remember that there are two types of cells: code and markdown. Use both. Explanations never hurt.\n",
    "- There are several ways to approach the same problem. Try not to repeat your way of thinking.\n",
    "- If different syntaxes lead to the same result, explore them.\n",
    "- Use internet in a smart way. Don't look at how to solve the problem in its entirety; it is better to learn methods that lead your logical reasoning to the solution.\n",
    "- Once you have a plan to address the problem, try breaking your code into manageable chunks.\n",
    "- Use `print()` and `type()` functions in the middle of your code to understand what your code is actually doing."
   ]
  },
  {
   "cell_type": "markdown",
   "id": "16ddc2de",
   "metadata": {},
   "source": [
    "***"
   ]
  },
  {
   "cell_type": "markdown",
   "id": "cdb06117",
   "metadata": {},
   "source": [
    "First, import the json package:"
   ]
  },
  {
   "cell_type": "code",
   "execution_count": null,
   "id": "c227896b",
   "metadata": {},
   "outputs": [],
   "source": [
    "import json"
   ]
  },
  {
   "cell_type": "markdown",
   "id": "b73d47fa",
   "metadata": {},
   "source": [
    "## Encoding and Decoding\n",
    "\n",
    "Construct a **Python dictionary** with data from people from your squad. Here is an example of one item:\n",
    "\n"
   ]
  },
  {
   "cell_type": "code",
   "execution_count": null,
   "id": "1ac99402",
   "metadata": {},
   "outputs": [],
   "source": [
    "MDS_Squad = {\n",
    "    \"Name\":\"Luciano\",\n",
    "    \"Surname\": \"Gabbanelli\",\n",
    "    \"Age\": \"Queteimporta\",\n",
    "    \"Hobbies\": [\"Bandoneon\",\"Slackline\",\"Circ\"],\n",
    "    \"Married\": False\n",
    "}\n",
    "\n",
    "print(type(MDS_Squad))"
   ]
  },
  {
   "cell_type": "markdown",
   "id": "03640a93",
   "metadata": {},
   "source": [
    "**Add more data** of at least two more people. Think about the structure of your data!\n",
    "\n",
    "Then, **encode** your dictionary to a JSON file and print it. Use indent=4 for a more readable structure.\n",
    "\n",
    "Finally, **decode** your JSON file to a Python object and print it.\n",
    "\n",
    "**Additional task:** Replace all ages with a valid type and find the sum of the ages of the people in your data."
   ]
  },
  {
   "cell_type": "code",
   "execution_count": null,
   "id": "ff5b650d",
   "metadata": {},
   "outputs": [],
   "source": [
    "# Type your code here:\n"
   ]
  },
  {
   "cell_type": "markdown",
   "id": "6749d080",
   "metadata": {},
   "source": [
    "## Construct a JSON file and read it!\n",
    "\n",
    "You have to create a .json file with the following information about the four fundamental forces of Nature:\n",
    "\n",
    "(forces looks like nested dictionaries =0)"
   ]
  },
  {
   "cell_type": "markdown",
   "id": "3bd2bbec",
   "metadata": {},
   "source": [
    "**electromagnetic:** {relative strength: 10^36, range: infinity, mediator: photons}, \n",
    "\n",
    "**strong:** {relative strength: 10^38, range: 10^-15, mediator: gluons}, \n",
    "\n",
    "**weak:** {relative strength: 10^25, range: 10^-18, mediator: W/Z bosons}, \n",
    "\n",
    "**gravity:** {relative strength: 1, range: infinity, mediator: gravitons}"
   ]
  },
  {
   "cell_type": "markdown",
   "id": "0a1563bf",
   "metadata": {},
   "source": [
    "* **JSON creation:** Just copy and paste the information in the previous cell into a plain text writter and create a JSON file called 4forces.json\n",
    "\n",
    "\n",
    "* **JSON manipulation:** Then, open and read the file with the usual methods seen in the **Read and Write a .txt File** material.\n",
    "\n",
    "\n",
    "* **JSON exploration:** Print its content and explore its type.\n",
    "\n",
    "\n",
    "* **JSON transformation:** Parse it into a Python object! Turn (or decode) your JSON encoded/formatted data into Python Types.\n",
    "\n",
    "\n",
    "* **Pyton object exploration:** Explore its content and explore its type and solve the following statements:\n",
    "\n",
    "        - Print the mediator of the electromagnetic force.\n",
    "    \n",
    "        - Print all forces whose range is infinite.\n",
    "    \n",
    "        - Print the range of the strong force. Which type of object is this value?\n",
    "    \n",
    "        - What is a mediator?! Nah! Just kidding ;)"
   ]
  },
  {
   "cell_type": "code",
   "execution_count": null,
   "id": "42e26490",
   "metadata": {},
   "outputs": [],
   "source": [
    "# Type your code here:\n"
   ]
  },
  {
   "cell_type": "markdown",
   "id": "8c796ce9",
   "metadata": {},
   "source": [
    "## Solve the following sonnet\n",
    "\n",
    "```poem\n",
    "\n",
    "Alas, such task doth not fit in rhyme,\n",
    "To store books' info in a .json file,\n",
    "A list of dictionaries must combine,\n",
    "Each representing book with style.\n",
    "\n",
    "Its fields are \"Title\", \"Author\", \"Genres\" all,\n",
    "And \"price\", which must be kept with care,\n",
    "Three books, at least, must grace the hall,\n",
    "And thus our script, our data will share.\n",
    "\n",
    "Begin with an object, string json-like in form,\n",
    "That can be converted to a list with ease,\n",
    "So that the information will be warm,\n",
    "And we may interact with great glee.\n",
    "\n",
    "The list to file, we write with might,\n",
    "And read again, all Titles print in sight.\n",
    "\n",
    "```"
   ]
  },
  {
   "cell_type": "markdown",
   "id": "02b5a344",
   "metadata": {},
   "source": [
    "**Too much?**\n",
    "\n",
    "**Here you have the same problem written for programmers.**\n",
    "\n",
    "Task:\n",
    "\n",
    "    - Create a Python script to store information about books in a .json file on your computer.\n",
    "    - The script should store an array of dictionaries, where each dictionary represents a book.\n",
    "    - Each book must contain the following fields: Title, Author, Genres (as an array), and Price.\n",
    "    - The data should contain at least three different books.\n",
    "\n",
    "\n",
    "Procedure:\n",
    "\n",
    "    - Start by creating a string object that contains the array of books in a **json-like syntax**.\n",
    "    - Convert the latter object to a list object to interact with the information easily.\n",
    "    - Write the entire list to a .json file on your computer.\n",
    "    - Finally, read the content of the created .json file again (as a python tractable object) and print the titles of all the books.\n",
    "\n",
    "\n",
    "Example of the content of one of the dictionaries:\n",
    "\n",
    "    - Title: The Lord of the Rings\n",
    "    - Author: J.R.R. Tolkien\n",
    "    - Genres (as an array): [Fantasy, Adventure]\n",
    "    - Price: 19.99"
   ]
  },
  {
   "cell_type": "code",
   "execution_count": null,
   "id": "de2ca244",
   "metadata": {},
   "outputs": [],
   "source": [
    "# Type your code here:\n"
   ]
  },
  {
   "cell_type": "markdown",
   "id": "1d6ef8d4",
   "metadata": {},
   "source": [
    "## JSON validator\n",
    "\n",
    "Create a function that receives strings and returns a boolean indicating whether the string is a JSON string or not.\n",
    "\n",
    "Then, feed the function with two strings. One of JSON type; and the other not.\n",
    "\n",
    "**Function hint:** Use try and except. Print the error when `False`, s'il vous plaît."
   ]
  },
  {
   "cell_type": "code",
   "execution_count": null,
   "id": "e8f368da",
   "metadata": {},
   "outputs": [],
   "source": [
    "# Type your code here:\n"
   ]
  }
 ],
 "metadata": {
  "kernelspec": {
   "display_name": "Python 3 (ipykernel)",
   "language": "python",
   "name": "python3"
  },
  "language_info": {
   "codemirror_mode": {
    "name": "ipython",
    "version": 3
   },
   "file_extension": ".py",
   "mimetype": "text/x-python",
   "name": "python",
   "nbconvert_exporter": "python",
   "pygments_lexer": "ipython3",
   "version": "3.9.12"
  },
  "toc": {
   "base_numbering": 1,
   "nav_menu": {},
   "number_sections": true,
   "sideBar": true,
   "skip_h1_title": true,
   "title_cell": "Table of Contents",
   "title_sidebar": "Contents",
   "toc_cell": false,
   "toc_position": {},
   "toc_section_display": true,
   "toc_window_display": false
  }
 },
 "nbformat": 4,
 "nbformat_minor": 5
}
